{
 "cells": [
  {
   "cell_type": "code",
   "execution_count": 1,
   "metadata": {},
   "outputs": [],
   "source": [
    "import neural_network\n",
    "from importlib import reload; reload(neural_network)\n",
    "import transformer \n",
    "from sklearn.model_selection import train_test_split\n",
    "import pandas as pd\n",
    "\n",
    "train_df = pd.read_csv('C:/Users/amaur/ML/neural_network/train.csv')\n",
    "test_df = pd.read_csv('C:/Users/amaur/ML/neural_network/test.csv')"
   ]
  },
  {
   "cell_type": "code",
   "execution_count": 2,
   "metadata": {},
   "outputs": [],
   "source": [
    "y = train_df['SalePrice']\n",
    "x = train_df.drop('SalePrice', axis=1)\n",
    "x.set_index('Id', inplace=True)\n",
    "\n",
    "transformer = transformer.Transformer()\n",
    "x = transformer.preprocess(x)\n",
    "x_train, x_valid, y_train, y_valid = train_test_split(x, y)"
   ]
  },
  {
   "cell_type": "code",
   "execution_count": 3,
   "metadata": {},
   "outputs": [
    {
     "name": "stdout",
     "output_type": "stream",
     "text": [
      "0.007287162960774709\n"
     ]
    }
   ],
   "source": [
    "import numpy as np\n",
    "\n",
    "nn = neural_network.NeuralNetwork(input_size=x_train.shape[1], hidden_size=8, output_size=1, learning_rate=1e-3, epochs=1000)\n",
    "xmax = x_train.values.max(axis=0)[np.newaxis, :]\n",
    "xmin = x_train.values.min(axis=0)[np.newaxis, :]\n",
    "den = xmax - xmin\n",
    "den[den == 0] = 1\n",
    "def norm(x):\n",
    "    return (x-xmin)/den\n",
    "w1, b1, w2, b2, loss_history = nn.gradient_descent(norm(x_train.values), y_train.values.astype(float)/y_train.max())\n",
    "nn.display_learning_curve(loss_history)\n",
    "pred, loss = nn.predict(norm(x_valid.values), y_valid.values/y_train.max(), w1, b1, w2, b2)\n"
   ]
  },
  {
   "cell_type": "code",
   "execution_count": null,
   "metadata": {},
   "outputs": [],
   "source": []
  }
 ],
 "metadata": {
  "kernelspec": {
   "display_name": "Python 3",
   "language": "python",
   "name": "python3"
  },
  "language_info": {
   "codemirror_mode": {
    "name": "ipython",
    "version": 3
   },
   "file_extension": ".py",
   "mimetype": "text/x-python",
   "name": "python",
   "nbconvert_exporter": "python",
   "pygments_lexer": "ipython3",
   "version": "3.10.5"
  }
 },
 "nbformat": 4,
 "nbformat_minor": 2
}
